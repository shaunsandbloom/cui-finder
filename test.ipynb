{
 "cells": [
  {
   "cell_type": "code",
   "execution_count": 2,
   "metadata": {},
   "outputs": [],
   "source": [
    "import cui_finder"
   ]
  },
  {
   "cell_type": "code",
   "execution_count": 3,
   "metadata": {},
   "outputs": [],
   "source": [
    "from cui_finder import scan_entry"
   ]
  },
  {
   "cell_type": "code",
   "execution_count": 6,
   "metadata": {},
   "outputs": [
    {
     "data": {
      "text/html": [
       "<span class=\"tex2jax_ignore\"><div class=\"entities\" style=\"line-height: 2.5; direction: ltr\">When \n",
       "<mark class=\"entity\" style=\"background: #F6EA83; padding: 0.45em 0.6em; margin: 0 0.25em; line-height: 1; border-radius: 0.35em;\">\n",
       "    Andrew Yang\n",
       "    <span style=\"font-size: 0.8em; font-weight: bold; line-height: 1; border-radius: 0.35em; vertical-align: middle; margin-left: 0.5rem\">PERSON</span>\n",
       "</mark>\n",
       " parachuted into the New York City mayor’s race from a losing presidential campaign, he was a known national quantity but unknown in the insular world of local politics. He did not rise from a political club, had never run for local office and had no established base of financial or political support in the city. He had never even voted in a mayoral election. But he had one major asset working in his favor: He had joined forces with \n",
       "<mark class=\"entity\" style=\"background: #F6EA83; padding: 0.45em 0.6em; margin: 0 0.25em; line-height: 1; border-radius: 0.35em;\">\n",
       "    Bradley Tusk\n",
       "    <span style=\"font-size: 0.8em; font-weight: bold; line-height: 1; border-radius: 0.35em; vertical-align: middle; margin-left: 0.5rem\">PERSON</span>\n",
       "</mark>\n",
       ", a powerful New York political strategist, lobbyist and venture capitalist whose investments could hinge on government action. Mr. \n",
       "<mark class=\"entity\" style=\"background: #F6EA83; padding: 0.45em 0.6em; margin: 0 0.25em; line-height: 1; border-radius: 0.35em;\">\n",
       "    Yang\n",
       "    <span style=\"font-size: 0.8em; font-weight: bold; line-height: 1; border-radius: 0.35em; vertical-align: middle; margin-left: 0.5rem\">PERSON</span>\n",
       "</mark>\n",
       " leads most early polling in a race for mayor that is less than seven weeks away. But Mr. \n",
       "<mark class=\"entity\" style=\"background: #F6EA83; padding: 0.45em 0.6em; margin: 0 0.25em; line-height: 1; border-radius: 0.35em;\">\n",
       "    Tusk\n",
       "    <span style=\"font-size: 0.8em; font-weight: bold; line-height: 1; border-radius: 0.35em; vertical-align: middle; margin-left: 0.5rem\">PERSON</span>\n",
       "</mark>\n",
       "’s personal business concerns could present significant potential conflicts of interest should Mr. \n",
       "<mark class=\"entity\" style=\"background: #F6EA83; padding: 0.45em 0.6em; margin: 0 0.25em; line-height: 1; border-radius: 0.35em;\">\n",
       "    Yang\n",
       "    <span style=\"font-size: 0.8em; font-weight: bold; line-height: 1; border-radius: 0.35em; vertical-align: middle; margin-left: 0.5rem\">PERSON</span>\n",
       "</mark>\n",
       " be elected mayor. Mr. \n",
       "<mark class=\"entity\" style=\"background: #F6EA83; padding: 0.45em 0.6em; margin: 0 0.25em; line-height: 1; border-radius: 0.35em;\">\n",
       "    Tusk\n",
       "    <span style=\"font-size: 0.8em; font-weight: bold; line-height: 1; border-radius: 0.35em; vertical-align: middle; margin-left: 0.5rem\">PERSON</span>\n",
       "</mark>\n",
       ", 47, has an expansive political and financial portfolio. He worked for Senator \n",
       "<mark class=\"entity\" style=\"background: #F6EA83; padding: 0.45em 0.6em; margin: 0 0.25em; line-height: 1; border-radius: 0.35em;\">\n",
       "    Chuck Schumer\n",
       "    <span style=\"font-size: 0.8em; font-weight: bold; line-height: 1; border-radius: 0.35em; vertical-align: middle; margin-left: 0.5rem\">PERSON</span>\n",
       "</mark>\n",
       " as his \n",
       "<mark class=\"entity\" style=\"background: #F8A997; padding: 0.45em 0.6em; margin: 0 0.25em; line-height: 1; border-radius: 0.35em;\">\n",
       "    communications\n",
       "    <span style=\"font-size: 0.8em; font-weight: bold; line-height: 1; border-radius: 0.35em; vertical-align: middle; margin-left: 0.5rem\">CUI</span>\n",
       "</mark>\n",
       " director, was a special adviser to Mayor \n",
       "<mark class=\"entity\" style=\"background: #F6EA83; padding: 0.45em 0.6em; margin: 0 0.25em; line-height: 1; border-radius: 0.35em;\">\n",
       "    Michael R. Bloomberg\n",
       "    <span style=\"font-size: 0.8em; font-weight: bold; line-height: 1; border-radius: 0.35em; vertical-align: middle; margin-left: 0.5rem\">PERSON</span>\n",
       "</mark>\n",
       " and then became deputy governor of Illinois, under Gov. \n",
       "<mark class=\"entity\" style=\"background: #F6EA83; padding: 0.45em 0.6em; margin: 0 0.25em; line-height: 1; border-radius: 0.35em;\">\n",
       "    Rod Blagojevich\n",
       "    <span style=\"font-size: 0.8em; font-weight: bold; line-height: 1; border-radius: 0.35em; vertical-align: middle; margin-left: 0.5rem\">PERSON</span>\n",
       "</mark>\n",
       ". His venture firm lists interests in high-profile companies like Bird, the electric scooter company; Coinbase, a cryptocurrency company; and \n",
       "<mark class=\"entity\" style=\"background: #F6EA83; padding: 0.45em 0.6em; margin: 0 0.25em; line-height: 1; border-radius: 0.35em;\">\n",
       "    Latch\n",
       "    <span style=\"font-size: 0.8em; font-weight: bold; line-height: 1; border-radius: 0.35em; vertical-align: middle; margin-left: 0.5rem\">PERSON</span>\n",
       "</mark>\n",
       ", a company that makes keyless entry \n",
       "<mark class=\"entity\" style=\"background: #F8A997; padding: 0.45em 0.6em; margin: 0 0.25em; line-height: 1; border-radius: 0.35em;\">\n",
       "    systems\n",
       "    <span style=\"font-size: 0.8em; font-weight: bold; line-height: 1; border-radius: 0.35em; vertical-align: middle; margin-left: 0.5rem\">CUI</span>\n",
       "</mark>\n",
       " for homes. He also has a well-known penchant for self-aggrandizement: His 2018 book is called “The Fixer: My Adventures Saving Startups From Death by Politics.” He describes various exploits, including how he helped Uber ward off government regulations — though some of his colleagues have said that he has taken more credit than he deserves. Nonetheless, because he took equity in the company in exchange for consulting advice, he ultimately cashed out for what some reports estimate as $100 million. And now he is advising a candidate with a total absence of government experience — so much so that Mr. \n",
       "<mark class=\"entity\" style=\"background: #F6EA83; padding: 0.45em 0.6em; margin: 0 0.25em; line-height: 1; border-radius: 0.35em;\">\n",
       "    Tusk\n",
       "    <span style=\"font-size: 0.8em; font-weight: bold; line-height: 1; border-radius: 0.35em; vertical-align: middle; margin-left: 0.5rem\">PERSON</span>\n",
       "</mark>\n",
       " recently called Mr. \n",
       "<mark class=\"entity\" style=\"background: #F6EA83; padding: 0.45em 0.6em; margin: 0 0.25em; line-height: 1; border-radius: 0.35em;\">\n",
       "    Yang\n",
       "    <span style=\"font-size: 0.8em; font-weight: bold; line-height: 1; border-radius: 0.35em; vertical-align: middle; margin-left: 0.5rem\">PERSON</span>\n",
       "</mark>\n",
       " an “empty vessel.” “\n",
       "<mark class=\"entity\" style=\"background: #F6EA83; padding: 0.45em 0.6em; margin: 0 0.25em; line-height: 1; border-radius: 0.35em;\">\n",
       "    Tusk\n",
       "    <span style=\"font-size: 0.8em; font-weight: bold; line-height: 1; border-radius: 0.35em; vertical-align: middle; margin-left: 0.5rem\">PERSON</span>\n",
       "</mark>\n",
       " could essentially be the shadow mayor for New York, while he is representing the interests of big corporate \n",
       "<mark class=\"entity\" style=\"background: #F8A997; padding: 0.45em 0.6em; margin: 0 0.25em; line-height: 1; border-radius: 0.35em;\">\n",
       "    clients\n",
       "    <span style=\"font-size: 0.8em; font-weight: bold; line-height: 1; border-radius: 0.35em; vertical-align: middle; margin-left: 0.5rem\">CUI</span>\n",
       "</mark>\n",
       ",” said \n",
       "<mark class=\"entity\" style=\"background: #F6EA83; padding: 0.45em 0.6em; margin: 0 0.25em; line-height: 1; border-radius: 0.35em;\">\n",
       "    John Kaehny\n",
       "    <span style=\"font-size: 0.8em; font-weight: bold; line-height: 1; border-radius: 0.35em; vertical-align: middle; margin-left: 0.5rem\">PERSON</span>\n",
       "</mark>\n",
       ", executive director of the good-government group Reinvent Albany. After The New York Times sought comment from Mr. \n",
       "<mark class=\"entity\" style=\"background: #F6EA83; padding: 0.45em 0.6em; margin: 0 0.25em; line-height: 1; border-radius: 0.35em;\">\n",
       "    Yang\n",
       "    <span style=\"font-size: 0.8em; font-weight: bold; line-height: 1; border-radius: 0.35em; vertical-align: middle; margin-left: 0.5rem\">PERSON</span>\n",
       "</mark>\n",
       "’s campaign, Mr. \n",
       "<mark class=\"entity\" style=\"background: #F6EA83; padding: 0.45em 0.6em; margin: 0 0.25em; line-height: 1; border-radius: 0.35em;\">\n",
       "    Tusk\n",
       "    <span style=\"font-size: 0.8em; font-weight: bold; line-height: 1; border-radius: 0.35em; vertical-align: middle; margin-left: 0.5rem\">PERSON</span>\n",
       "</mark>\n",
       " posted a 1,000-word statement on Medium blaming his political opponents for rumor-mongering, and outlining policies that he and his team would follow should Mr. \n",
       "<mark class=\"entity\" style=\"background: #F6EA83; padding: 0.45em 0.6em; margin: 0 0.25em; line-height: 1; border-radius: 0.35em;\">\n",
       "    Yang\n",
       "    <span style=\"font-size: 0.8em; font-weight: bold; line-height: 1; border-radius: 0.35em; vertical-align: middle; margin-left: 0.5rem\">PERSON</span>\n",
       "</mark>\n",
       " win the election. “If we win, I will not lobby or talk with the new mayor — nor anyone in a \n",
       "<mark class=\"entity\" style=\"background: #F6EA83; padding: 0.45em 0.6em; margin: 0 0.25em; line-height: 1; border-radius: 0.35em;\">\n",
       "    Yang\n",
       "    <span style=\"font-size: 0.8em; font-weight: bold; line-height: 1; border-radius: 0.35em; vertical-align: middle; margin-left: 0.5rem\">PERSON</span>\n",
       "</mark>\n",
       " administration — on any matter that intersects with our work,” he wrote on Thursday.</div></span>"
      ],
      "text/plain": [
       "<IPython.core.display.HTML object>"
      ]
     },
     "metadata": {},
     "output_type": "display_data"
    },
    {
     "name": "stdout",
     "output_type": "stream",
     "text": [
      "CAUTION: This entry may contain Personally Identifiable Information (PII).\n",
      "Please review the following items to ensure they do not contain PII:\n",
      "\n",
      "\t Yang\n",
      "\t Tusk\n",
      "\t Chuck Schumer\n",
      "\t Latch\n",
      "\t Bradley Tusk\n",
      "\t John Kaehny\n",
      "\t Michael R. Bloomberg\n",
      "\t Rod Blagojevich\n",
      "\t Andrew Yang\n",
      "\n",
      "\n",
      "CAUTION: This entry may contain Controlled Unclassified Information (CUI).\n",
      "Please review the following items to ensure you are not disclosing CUI:\n",
      "\n",
      "ITEM: communications\n",
      "CUI REFERENCE: Law Enforement - Communications\n",
      "CATEGORY DESCRIPTION: Related to the contents of any wire, oral, or electronic communication.\n",
      "\n",
      "ITEM: systems\n",
      "CUI REFERENCE: Critical Infrastructure - General Critical Infrastructure Information\n",
      "CATEGORY DESCRIPTION: Systems and assets, whether physical or virtual, so vital that the incapacity or destruction of such may have a debilitating impact on the security, economy, public health or safety, environment, or any combination of these matters, across any Federal, State, regional, territorial, or local jurisdiction.\n",
      "\n",
      "ITEM: clients\n",
      "CUI REFERENCE: Financial - International Financial Institutions\n",
      "CATEGORY DESCRIPTION: Relating to entities that provide financial services for its clients or members, and were established (or chartered) by more than one country, and hence are subjects of international law.\n",
      "\n"
     ]
    }
   ],
   "source": [
    "test = \"When Andrew Yang parachuted into the New York City mayor’s race from a losing presidential campaign, he was a known national quantity but unknown in the insular world of local politics. He did not rise from a political club, had never run for local office and had no established base of financial or political support in the city. He had never even voted in a mayoral election. But he had one major asset working in his favor: He had joined forces with Bradley Tusk, a powerful New York political strategist, lobbyist and venture capitalist whose investments could hinge on government action. Mr. Yang leads most early polling in a race for mayor that is less than seven weeks away. But Mr. Tusk’s personal business concerns could present significant potential conflicts of interest should Mr. Yang be elected mayor. Mr. Tusk, 47, has an expansive political and financial portfolio. He worked for Senator Chuck Schumer as his communications director, was a special adviser to Mayor Michael R. Bloomberg and then became deputy governor of Illinois, under Gov. Rod Blagojevich. His venture firm lists interests in high-profile companies like Bird, the electric scooter company; Coinbase, a cryptocurrency company; and Latch, a company that makes keyless entry systems for homes. He also has a well-known penchant for self-aggrandizement: His 2018 book is called “The Fixer: My Adventures Saving Startups From Death by Politics.” He describes various exploits, including how he helped Uber ward off government regulations — though some of his colleagues have said that he has taken more credit than he deserves. Nonetheless, because he took equity in the company in exchange for consulting advice, he ultimately cashed out for what some reports estimate as $100 million. And now he is advising a candidate with a total absence of government experience — so much so that Mr. Tusk recently called Mr. Yang an “empty vessel.” “Tusk could essentially be the shadow mayor for New York, while he is representing the interests of big corporate clients,” said John Kaehny, executive director of the good-government group Reinvent Albany. After The New York Times sought comment from Mr. Yang’s campaign, Mr. Tusk posted a 1,000-word statement on Medium blaming his political opponents for rumor-mongering, and outlining policies that he and his team would follow should Mr. Yang win the election. “If we win, I will not lobby or talk with the new mayor — nor anyone in a Yang administration — on any matter that intersects with our work,” he wrote on Thursday.\"\n",
    "\n",
    "scan_entry(test, display = True, description = True)"
   ]
  },
  {
   "cell_type": "code",
   "execution_count": null,
   "metadata": {},
   "outputs": [],
   "source": []
  }
 ],
 "metadata": {
  "kernelspec": {
   "display_name": "Python 3.9.13 ('.venv': venv)",
   "language": "python",
   "name": "python3"
  },
  "language_info": {
   "codemirror_mode": {
    "name": "ipython",
    "version": 3
   },
   "file_extension": ".py",
   "mimetype": "text/x-python",
   "name": "python",
   "nbconvert_exporter": "python",
   "pygments_lexer": "ipython3",
   "version": "3.9.13"
  },
  "orig_nbformat": 4,
  "vscode": {
   "interpreter": {
    "hash": "7e4ac0190516a8c8b7a4382c1ac557a21e97bd5ddfd1f72d48e45f9e70bbc526"
   }
  }
 },
 "nbformat": 4,
 "nbformat_minor": 2
}
